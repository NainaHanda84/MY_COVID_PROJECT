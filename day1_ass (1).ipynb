{
 "cells": [
  {
   "cell_type": "code",
   "execution_count": 1,
   "metadata": {},
   "outputs": [],
   "source": [
    "district=\"Gwalior\"\n",
    "infected_tilldate=1234\n",
    "infected_10_june=12\n",
    "infected_11_june=2\n",
    "infected_12_june=13\n",
    "percentage_change=((infected_12_june-infected_10_june)/infected_12_june)*100"
   ]
  },
  {
   "cell_type": "code",
   "execution_count": 2,
   "metadata": {},
   "outputs": [
    {
     "name": "stdout",
     "output_type": "stream",
     "text": [
      "District = Gwalior\n",
      "infected_10_june = 12\n",
      "infected_10_june = 2\n",
      "infected_10_june = 13\n",
      "percentage_change= 7.6923076923076925\n"
     ]
    }
   ],
   "source": [
    "print(\"District =\",district)\n",
    "print(\"infected_10_june =\",infected_10_june)\n",
    "print(\"infected_10_june =\",infected_11_june)\n",
    "print(\"infected_10_june =\",infected_12_june)\n",
    "print(\"percentage_change=\",percentage_change)"
   ]
  },
  {
   "cell_type": "code",
   "execution_count": null,
   "metadata": {},
   "outputs": [],
   "source": []
  },
  {
   "cell_type": "markdown",
   "metadata": {},
   "source": []
  }
 ],
 "metadata": {
  "kernelspec": {
   "display_name": "Python 3",
   "language": "python",
   "name": "python3"
  },
  "language_info": {
   "codemirror_mode": {
    "name": "ipython",
    "version": 3
   },
   "file_extension": ".py",
   "mimetype": "text/x-python",
   "name": "python",
   "nbconvert_exporter": "python",
   "pygments_lexer": "ipython3",
   "version": "3.7.6"
  }
 },
 "nbformat": 4,
 "nbformat_minor": 4
}
