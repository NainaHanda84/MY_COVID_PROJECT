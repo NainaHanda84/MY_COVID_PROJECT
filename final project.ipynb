{
 "cells": [
  {
   "cell_type": "code",
   "execution_count": 1,
   "metadata": {},
   "outputs": [],
   "source": [
    "import pandas as pd\n",
    "import seaborn as sns\n",
    "import numpy as np\n",
    "from datetime import date,datetime\n",
    "import plotly.graph_objects as go\n",
    "from matplotlib import pyplot as plt\n",
    "from matplotlib.dates import DateFormatter\n",
    "from sklearn.model_selection import train_test_split \n",
    "from sklearn.linear_model import LinearRegression\n",
    "from sklearn import metrics\n",
    "#dfg = shp.Reader(\"arunachalpradesh_district.shp\")\n",
    "df = pd.read_csv(\"state_level_daily.csv\")\n",
    "#df2 = pd.read_csv(\"tests_day_wise.csv\")\n",
    "df1 = pd.read_csv(\"complete.csv\")\n",
    "#df2 = pd.read_csv(\"tests_day_wise.csv\")\n",
    "df2 = pd.read_csv(\"statewise_tested_numbers_data.csv\")\n",
    "#df = gpd.read_file(\"india_district.shp\") statewise_tested_numbers_data.csv\n",
    "#df.head(400)\n",
    "#fig, ax = plt.subplots(figsize=(10,10))    "
   ]
  },
  {
   "cell_type": "code",
   "execution_count": 2,
   "metadata": {},
   "outputs": [
    {
     "data": {
      "text/html": [
       "<div>\n",
       "<style scoped>\n",
       "    .dataframe tbody tr th:only-of-type {\n",
       "        vertical-align: middle;\n",
       "    }\n",
       "\n",
       "    .dataframe tbody tr th {\n",
       "        vertical-align: top;\n",
       "    }\n",
       "\n",
       "    .dataframe thead th {\n",
       "        text-align: right;\n",
       "    }\n",
       "</style>\n",
       "<table border=\"1\" class=\"dataframe\">\n",
       "  <thead>\n",
       "    <tr style=\"text-align: right;\">\n",
       "      <th></th>\n",
       "      <th>Date</th>\n",
       "      <th>Name of State / UT</th>\n",
       "      <th>Latitude</th>\n",
       "      <th>Longitude</th>\n",
       "      <th>Total Confirmed cases</th>\n",
       "      <th>Death</th>\n",
       "      <th>Cured/Discharged/Migrated</th>\n",
       "      <th>New cases</th>\n",
       "      <th>New deaths</th>\n",
       "      <th>New recovered</th>\n",
       "    </tr>\n",
       "  </thead>\n",
       "  <tbody>\n",
       "    <tr>\n",
       "      <th>0</th>\n",
       "      <td>2020-01-30</td>\n",
       "      <td>Kerala</td>\n",
       "      <td>10.8505</td>\n",
       "      <td>76.2711</td>\n",
       "      <td>1</td>\n",
       "      <td>0</td>\n",
       "      <td>0</td>\n",
       "      <td>0</td>\n",
       "      <td>0</td>\n",
       "      <td>0</td>\n",
       "    </tr>\n",
       "    <tr>\n",
       "      <th>1</th>\n",
       "      <td>2020-01-31</td>\n",
       "      <td>Kerala</td>\n",
       "      <td>10.8505</td>\n",
       "      <td>76.2711</td>\n",
       "      <td>1</td>\n",
       "      <td>0</td>\n",
       "      <td>0</td>\n",
       "      <td>0</td>\n",
       "      <td>0</td>\n",
       "      <td>0</td>\n",
       "    </tr>\n",
       "    <tr>\n",
       "      <th>2</th>\n",
       "      <td>2020-02-01</td>\n",
       "      <td>Kerala</td>\n",
       "      <td>10.8505</td>\n",
       "      <td>76.2711</td>\n",
       "      <td>2</td>\n",
       "      <td>0</td>\n",
       "      <td>0</td>\n",
       "      <td>1</td>\n",
       "      <td>0</td>\n",
       "      <td>0</td>\n",
       "    </tr>\n",
       "    <tr>\n",
       "      <th>3</th>\n",
       "      <td>2020-02-02</td>\n",
       "      <td>Kerala</td>\n",
       "      <td>10.8505</td>\n",
       "      <td>76.2711</td>\n",
       "      <td>3</td>\n",
       "      <td>0</td>\n",
       "      <td>0</td>\n",
       "      <td>1</td>\n",
       "      <td>0</td>\n",
       "      <td>0</td>\n",
       "    </tr>\n",
       "    <tr>\n",
       "      <th>4</th>\n",
       "      <td>2020-02-03</td>\n",
       "      <td>Kerala</td>\n",
       "      <td>10.8505</td>\n",
       "      <td>76.2711</td>\n",
       "      <td>3</td>\n",
       "      <td>0</td>\n",
       "      <td>0</td>\n",
       "      <td>0</td>\n",
       "      <td>0</td>\n",
       "      <td>0</td>\n",
       "    </tr>\n",
       "  </tbody>\n",
       "</table>\n",
       "</div>"
      ],
      "text/plain": [
       "         Date Name of State / UT  Latitude  Longitude  Total Confirmed cases  \\\n",
       "0  2020-01-30             Kerala   10.8505    76.2711                      1   \n",
       "1  2020-01-31             Kerala   10.8505    76.2711                      1   \n",
       "2  2020-02-01             Kerala   10.8505    76.2711                      2   \n",
       "3  2020-02-02             Kerala   10.8505    76.2711                      3   \n",
       "4  2020-02-03             Kerala   10.8505    76.2711                      3   \n",
       "\n",
       "   Death  Cured/Discharged/Migrated  New cases  New deaths  New recovered  \n",
       "0      0                          0          0           0              0  \n",
       "1      0                          0          0           0              0  \n",
       "2      0                          0          1           0              0  \n",
       "3      0                          0          1           0              0  \n",
       "4      0                          0          0           0              0  "
      ]
     },
     "execution_count": 2,
     "metadata": {},
     "output_type": "execute_result"
    }
   ],
   "source": [
    "#df2.head()\n",
    "df1.head()"
   ]
  },
  {
   "cell_type": "code",
   "execution_count": 3,
   "metadata": {},
   "outputs": [],
   "source": [
    "df1=df1.drop([\"New cases\",\"New deaths\",\"New recovered\"],axis=1)\n",
    "df1=df1.rename(columns={\"Name of State / UT\":\"State\",\"Total Confirmed cases\":\"Tot_Cases\",\"Cured/Discharged/Migrated\":\"Recovered\"})\n",
    "df['Date']=pd.to_datetime(df['Date'],format='%d-%b-%y')\n",
    "df1['Date']=pd.to_datetime(df1['Date'],format='%Y-%m-%d')\n",
    "df2['Updated On']=pd.to_datetime(df2['Updated On'],format='%d/%m/%Y')\n",
    "date_from = pd.Timestamp(date(2020,6,1))\n",
    "#date_to = pd.Timestamp(date(2020,6,30))\n",
    "df_filtered = df[(df['State_Name']==\"Arunachal Pradesh\") & (df['Date']>=date_from) ]\n",
    "df_testing = df2[(df2['State']==\"Arunachal Pradesh\") & (df2['Updated On']>=date_from) ]\n",
    "df_complete = df1[(df1['State']==\"Arunachal Pradesh\") & (df1['Date']>=date_from) ]\n",
    "#df_hosp=df1[df1['State/UT']==\"Arunachal Pradesh\"]\n",
    "#df_pop=df1[df1['Name of State / UT']==\"Arunachal Pradesh\"]"
   ]
  },
  {
   "cell_type": "code",
   "execution_count": 4,
   "metadata": {},
   "outputs": [
    {
     "data": {
      "text/html": [
       "<div>\n",
       "<style scoped>\n",
       "    .dataframe tbody tr th:only-of-type {\n",
       "        vertical-align: middle;\n",
       "    }\n",
       "\n",
       "    .dataframe tbody tr th {\n",
       "        vertical-align: top;\n",
       "    }\n",
       "\n",
       "    .dataframe thead th {\n",
       "        text-align: right;\n",
       "    }\n",
       "</style>\n",
       "<table border=\"1\" class=\"dataframe\">\n",
       "  <thead>\n",
       "    <tr style=\"text-align: right;\">\n",
       "      <th></th>\n",
       "      <th>Unnamed: 0</th>\n",
       "      <th>Date</th>\n",
       "      <th>State</th>\n",
       "      <th>Confirmed</th>\n",
       "      <th>Deceased</th>\n",
       "      <th>Recovered</th>\n",
       "      <th>State_Name</th>\n",
       "    </tr>\n",
       "  </thead>\n",
       "  <tbody>\n",
       "    <tr>\n",
       "      <th>41</th>\n",
       "      <td>41</td>\n",
       "      <td>2020-07-01</td>\n",
       "      <td>AR</td>\n",
       "      <td>4</td>\n",
       "      <td>0</td>\n",
       "      <td>4</td>\n",
       "      <td>Arunachal Pradesh</td>\n",
       "    </tr>\n",
       "    <tr>\n",
       "      <th>80</th>\n",
       "      <td>80</td>\n",
       "      <td>2020-06-01</td>\n",
       "      <td>AR</td>\n",
       "      <td>18</td>\n",
       "      <td>0</td>\n",
       "      <td>0</td>\n",
       "      <td>Arunachal Pradesh</td>\n",
       "    </tr>\n",
       "    <tr>\n",
       "      <th>197</th>\n",
       "      <td>197</td>\n",
       "      <td>2020-07-02</td>\n",
       "      <td>AR</td>\n",
       "      <td>37</td>\n",
       "      <td>0</td>\n",
       "      <td>5</td>\n",
       "      <td>Arunachal Pradesh</td>\n",
       "    </tr>\n",
       "    <tr>\n",
       "      <th>236</th>\n",
       "      <td>236</td>\n",
       "      <td>2020-06-02</td>\n",
       "      <td>AR</td>\n",
       "      <td>2</td>\n",
       "      <td>0</td>\n",
       "      <td>0</td>\n",
       "      <td>Arunachal Pradesh</td>\n",
       "    </tr>\n",
       "    <tr>\n",
       "      <th>353</th>\n",
       "      <td>353</td>\n",
       "      <td>2020-07-03</td>\n",
       "      <td>AR</td>\n",
       "      <td>20</td>\n",
       "      <td>0</td>\n",
       "      <td>4</td>\n",
       "      <td>Arunachal Pradesh</td>\n",
       "    </tr>\n",
       "  </tbody>\n",
       "</table>\n",
       "</div>"
      ],
      "text/plain": [
       "     Unnamed: 0       Date State  Confirmed  Deceased  Recovered  \\\n",
       "41           41 2020-07-01    AR          4         0          4   \n",
       "80           80 2020-06-01    AR         18         0          0   \n",
       "197         197 2020-07-02    AR         37         0          5   \n",
       "236         236 2020-06-02    AR          2         0          0   \n",
       "353         353 2020-07-03    AR         20         0          4   \n",
       "\n",
       "            State_Name  \n",
       "41   Arunachal Pradesh  \n",
       "80   Arunachal Pradesh  \n",
       "197  Arunachal Pradesh  \n",
       "236  Arunachal Pradesh  \n",
       "353  Arunachal Pradesh  "
      ]
     },
     "execution_count": 4,
     "metadata": {},
     "output_type": "execute_result"
    }
   ],
   "source": [
    "df_filtered.head()\n",
    "#df_testing.head()\n",
    "#df_pop.head()"
   ]
  },
  {
   "cell_type": "code",
   "execution_count": 5,
   "metadata": {},
   "outputs": [],
   "source": [
    "#df_filtered.shape\n",
    "df_filtered=df_filtered.drop([\"Unnamed: 0\",\"State\"], axis=1)\n",
    "#df_filtered=df_filtered.rename(columns={\"State/UnionTerritory\":\"State\"})\n",
    "df_testing=df_testing.drop([\"Tag (Total Tested)\",\"Negative\",\"Unconfirmed\",\"Cumulative People In Quarantine\",\"Total People Currently in Quarantine\",\n",
    "                     \"Corona Enquiry Calls\",\"Num Calls State Helpline\",\"Source1\",\"Source2\",\"Unnamed: 22\",\"Test positivity rate\",\"Tests per thousand\",\n",
    "                     \"Tests per million\",\"Tests per positive case\"], axis=1)\n",
    "#df_hosp=df_hosp.rename(columns={\"State/UT\":\"State\",\"TotalPublicHealthFacilities_HMIS\":\"Hospitals\",\"NumPublicBeds_HMIS\":\"Beds\"})\n",
    "#df_pop=df_pop.drop([\"Sno\",\"Rural population\",\"Urban population\",\"Area\",\"Density\",\"Gender Ratio\"], axis=1)\n",
    "#df_pop=df_pop.rename(columns={\"State / Union Territory\":\"State\"})\n",
    "#df_filtered.pct_change()\n",
    "#df_filtered"
   ]
  },
  {
   "cell_type": "code",
   "execution_count": 6,
   "metadata": {},
   "outputs": [
    {
     "data": {
      "text/html": [
       "<div>\n",
       "<style scoped>\n",
       "    .dataframe tbody tr th:only-of-type {\n",
       "        vertical-align: middle;\n",
       "    }\n",
       "\n",
       "    .dataframe tbody tr th {\n",
       "        vertical-align: top;\n",
       "    }\n",
       "\n",
       "    .dataframe thead th {\n",
       "        text-align: right;\n",
       "    }\n",
       "</style>\n",
       "<table border=\"1\" class=\"dataframe\">\n",
       "  <thead>\n",
       "    <tr style=\"text-align: right;\">\n",
       "      <th></th>\n",
       "      <th>Date</th>\n",
       "      <th>Confirmed</th>\n",
       "      <th>Deceased</th>\n",
       "      <th>Recovered</th>\n",
       "      <th>State_Name</th>\n",
       "    </tr>\n",
       "  </thead>\n",
       "  <tbody>\n",
       "    <tr>\n",
       "      <th>41</th>\n",
       "      <td>2020-07-01</td>\n",
       "      <td>4</td>\n",
       "      <td>0</td>\n",
       "      <td>4</td>\n",
       "      <td>Arunachal Pradesh</td>\n",
       "    </tr>\n",
       "    <tr>\n",
       "      <th>80</th>\n",
       "      <td>2020-06-01</td>\n",
       "      <td>18</td>\n",
       "      <td>0</td>\n",
       "      <td>0</td>\n",
       "      <td>Arunachal Pradesh</td>\n",
       "    </tr>\n",
       "    <tr>\n",
       "      <th>197</th>\n",
       "      <td>2020-07-02</td>\n",
       "      <td>37</td>\n",
       "      <td>0</td>\n",
       "      <td>5</td>\n",
       "      <td>Arunachal Pradesh</td>\n",
       "    </tr>\n",
       "    <tr>\n",
       "      <th>236</th>\n",
       "      <td>2020-06-02</td>\n",
       "      <td>2</td>\n",
       "      <td>0</td>\n",
       "      <td>0</td>\n",
       "      <td>Arunachal Pradesh</td>\n",
       "    </tr>\n",
       "    <tr>\n",
       "      <th>353</th>\n",
       "      <td>2020-07-03</td>\n",
       "      <td>20</td>\n",
       "      <td>0</td>\n",
       "      <td>4</td>\n",
       "      <td>Arunachal Pradesh</td>\n",
       "    </tr>\n",
       "  </tbody>\n",
       "</table>\n",
       "</div>"
      ],
      "text/plain": [
       "          Date  Confirmed  Deceased  Recovered         State_Name\n",
       "41  2020-07-01          4         0          4  Arunachal Pradesh\n",
       "80  2020-06-01         18         0          0  Arunachal Pradesh\n",
       "197 2020-07-02         37         0          5  Arunachal Pradesh\n",
       "236 2020-06-02          2         0          0  Arunachal Pradesh\n",
       "353 2020-07-03         20         0          4  Arunachal Pradesh"
      ]
     },
     "execution_count": 6,
     "metadata": {},
     "output_type": "execute_result"
    }
   ],
   "source": [
    "df_filtered.head()"
   ]
  },
  {
   "cell_type": "code",
   "execution_count": 7,
   "metadata": {},
   "outputs": [
    {
     "data": {
      "text/html": [
       "<div>\n",
       "<style scoped>\n",
       "    .dataframe tbody tr th:only-of-type {\n",
       "        vertical-align: middle;\n",
       "    }\n",
       "\n",
       "    .dataframe tbody tr th {\n",
       "        vertical-align: top;\n",
       "    }\n",
       "\n",
       "    .dataframe thead th {\n",
       "        text-align: right;\n",
       "    }\n",
       "</style>\n",
       "<table border=\"1\" class=\"dataframe\">\n",
       "  <thead>\n",
       "    <tr style=\"text-align: right;\">\n",
       "      <th></th>\n",
       "      <th>Updated On</th>\n",
       "      <th>State</th>\n",
       "      <th>Total Tested</th>\n",
       "      <th>Positive</th>\n",
       "      <th>Tag (People in Quarantine)</th>\n",
       "      <th>Total People Released From Quarantine</th>\n",
       "      <th>People in ICU</th>\n",
       "      <th>People on Ventilators</th>\n",
       "      <th>Num Isolation Beds</th>\n",
       "      <th>Num ICU Beds</th>\n",
       "      <th>Num Ventilators</th>\n",
       "      <th>Total PPE</th>\n",
       "      <th>Total N95 Masks</th>\n",
       "      <th>Population NCP 2019 Projection</th>\n",
       "    </tr>\n",
       "  </thead>\n",
       "  <tbody>\n",
       "    <tr>\n",
       "      <th>195</th>\n",
       "      <td>2020-06-01</td>\n",
       "      <td>Arunachal Pradesh</td>\n",
       "      <td>8768.0</td>\n",
       "      <td>22.0</td>\n",
       "      <td>NaN</td>\n",
       "      <td>NaN</td>\n",
       "      <td>NaN</td>\n",
       "      <td>NaN</td>\n",
       "      <td>NaN</td>\n",
       "      <td>NaN</td>\n",
       "      <td>NaN</td>\n",
       "      <td>NaN</td>\n",
       "      <td>NaN</td>\n",
       "      <td>1504000.0</td>\n",
       "    </tr>\n",
       "    <tr>\n",
       "      <th>196</th>\n",
       "      <td>2020-06-02</td>\n",
       "      <td>Arunachal Pradesh</td>\n",
       "      <td>9079.0</td>\n",
       "      <td>28.0</td>\n",
       "      <td>NaN</td>\n",
       "      <td>NaN</td>\n",
       "      <td>NaN</td>\n",
       "      <td>NaN</td>\n",
       "      <td>NaN</td>\n",
       "      <td>NaN</td>\n",
       "      <td>NaN</td>\n",
       "      <td>NaN</td>\n",
       "      <td>NaN</td>\n",
       "      <td>1504000.0</td>\n",
       "    </tr>\n",
       "    <tr>\n",
       "      <th>197</th>\n",
       "      <td>2020-06-03</td>\n",
       "      <td>Arunachal Pradesh</td>\n",
       "      <td>9551.0</td>\n",
       "      <td>38.0</td>\n",
       "      <td>NaN</td>\n",
       "      <td>NaN</td>\n",
       "      <td>NaN</td>\n",
       "      <td>NaN</td>\n",
       "      <td>NaN</td>\n",
       "      <td>NaN</td>\n",
       "      <td>NaN</td>\n",
       "      <td>NaN</td>\n",
       "      <td>NaN</td>\n",
       "      <td>1504000.0</td>\n",
       "    </tr>\n",
       "    <tr>\n",
       "      <th>198</th>\n",
       "      <td>2020-06-04</td>\n",
       "      <td>Arunachal Pradesh</td>\n",
       "      <td>10025.0</td>\n",
       "      <td>43.0</td>\n",
       "      <td>NaN</td>\n",
       "      <td>NaN</td>\n",
       "      <td>NaN</td>\n",
       "      <td>NaN</td>\n",
       "      <td>NaN</td>\n",
       "      <td>NaN</td>\n",
       "      <td>NaN</td>\n",
       "      <td>NaN</td>\n",
       "      <td>NaN</td>\n",
       "      <td>1504000.0</td>\n",
       "    </tr>\n",
       "    <tr>\n",
       "      <th>199</th>\n",
       "      <td>2020-06-05</td>\n",
       "      <td>Arunachal Pradesh</td>\n",
       "      <td>10790.0</td>\n",
       "      <td>46.0</td>\n",
       "      <td>NaN</td>\n",
       "      <td>NaN</td>\n",
       "      <td>NaN</td>\n",
       "      <td>NaN</td>\n",
       "      <td>NaN</td>\n",
       "      <td>NaN</td>\n",
       "      <td>NaN</td>\n",
       "      <td>NaN</td>\n",
       "      <td>NaN</td>\n",
       "      <td>1504000.0</td>\n",
       "    </tr>\n",
       "  </tbody>\n",
       "</table>\n",
       "</div>"
      ],
      "text/plain": [
       "    Updated On              State  Total Tested  Positive  \\\n",
       "195 2020-06-01  Arunachal Pradesh        8768.0      22.0   \n",
       "196 2020-06-02  Arunachal Pradesh        9079.0      28.0   \n",
       "197 2020-06-03  Arunachal Pradesh        9551.0      38.0   \n",
       "198 2020-06-04  Arunachal Pradesh       10025.0      43.0   \n",
       "199 2020-06-05  Arunachal Pradesh       10790.0      46.0   \n",
       "\n",
       "    Tag (People in Quarantine)  Total People Released From Quarantine  \\\n",
       "195                        NaN                                    NaN   \n",
       "196                        NaN                                    NaN   \n",
       "197                        NaN                                    NaN   \n",
       "198                        NaN                                    NaN   \n",
       "199                        NaN                                    NaN   \n",
       "\n",
       "     People in ICU  People on Ventilators  Num Isolation Beds  Num ICU Beds  \\\n",
       "195            NaN                    NaN                 NaN           NaN   \n",
       "196            NaN                    NaN                 NaN           NaN   \n",
       "197            NaN                    NaN                 NaN           NaN   \n",
       "198            NaN                    NaN                 NaN           NaN   \n",
       "199            NaN                    NaN                 NaN           NaN   \n",
       "\n",
       "     Num Ventilators  Total PPE  Total N95 Masks  \\\n",
       "195              NaN        NaN              NaN   \n",
       "196              NaN        NaN              NaN   \n",
       "197              NaN        NaN              NaN   \n",
       "198              NaN        NaN              NaN   \n",
       "199              NaN        NaN              NaN   \n",
       "\n",
       "     Population NCP 2019 Projection  \n",
       "195                       1504000.0  \n",
       "196                       1504000.0  \n",
       "197                       1504000.0  \n",
       "198                       1504000.0  \n",
       "199                       1504000.0  "
      ]
     },
     "execution_count": 7,
     "metadata": {},
     "output_type": "execute_result"
    }
   ],
   "source": [
    "df_testing.head()"
   ]
  },
  {
   "cell_type": "code",
   "execution_count": 8,
   "metadata": {},
   "outputs": [],
   "source": [
    "#df_filtered.shape\n",
    "#df_filtered=df_filtered.drop([\"Sno\",\"Time\",\"ConfirmedIndianNational\",\"ConfirmedForeignNational\"], axis=1)\n",
    "#df_filtered=df_filtered.rename(columns={\"State/UnionTerritory\":\"State\"})\n",
    "df_testing=df_testing.drop([\"Positive\",\"Tag (People in Quarantine)\",\"Total People Released From Quarantine\",\"People in ICU\",\n",
    "                     \"People on Ventilators\",\"Num Isolation Beds\",\"Num ICU Beds\",\"Num Ventilators\",\"Total PPE\",\n",
    "                            \"Total N95 Masks\"], axis=1)\n",
    "df_testing=df_testing.rename(columns={\"Population NCP 2019 Projection\":\"Population\",\"Updated On\":\"Date\",\"Total Tested\":\"Tests\"})\n",
    "df_filtered=df_filtered.rename(columns={\"State_Name\":\"State\"})\n",
    "#df_pop=df_pop.drop([\"Sno\",\"Rural population\",\"Urban population\",\"Area\",\"Density\",\"Gender Ratio\"], axis=1)\n",
    "#df_pop=df_pop.rename(columns={\"State / Union Territory\":\"State\"})\n",
    "#df_filtered.pct_change()\n",
    "#df_filtered"
   ]
  },
  {
   "cell_type": "code",
   "execution_count": 9,
   "metadata": {},
   "outputs": [
    {
     "data": {
      "text/html": [
       "<div>\n",
       "<style scoped>\n",
       "    .dataframe tbody tr th:only-of-type {\n",
       "        vertical-align: middle;\n",
       "    }\n",
       "\n",
       "    .dataframe tbody tr th {\n",
       "        vertical-align: top;\n",
       "    }\n",
       "\n",
       "    .dataframe thead th {\n",
       "        text-align: right;\n",
       "    }\n",
       "</style>\n",
       "<table border=\"1\" class=\"dataframe\">\n",
       "  <thead>\n",
       "    <tr style=\"text-align: right;\">\n",
       "      <th></th>\n",
       "      <th>Date</th>\n",
       "      <th>State</th>\n",
       "      <th>Tests</th>\n",
       "      <th>Population</th>\n",
       "    </tr>\n",
       "  </thead>\n",
       "  <tbody>\n",
       "    <tr>\n",
       "      <th>195</th>\n",
       "      <td>2020-06-01</td>\n",
       "      <td>Arunachal Pradesh</td>\n",
       "      <td>8768.0</td>\n",
       "      <td>1504000.0</td>\n",
       "    </tr>\n",
       "    <tr>\n",
       "      <th>196</th>\n",
       "      <td>2020-06-02</td>\n",
       "      <td>Arunachal Pradesh</td>\n",
       "      <td>9079.0</td>\n",
       "      <td>1504000.0</td>\n",
       "    </tr>\n",
       "    <tr>\n",
       "      <th>197</th>\n",
       "      <td>2020-06-03</td>\n",
       "      <td>Arunachal Pradesh</td>\n",
       "      <td>9551.0</td>\n",
       "      <td>1504000.0</td>\n",
       "    </tr>\n",
       "    <tr>\n",
       "      <th>198</th>\n",
       "      <td>2020-06-04</td>\n",
       "      <td>Arunachal Pradesh</td>\n",
       "      <td>10025.0</td>\n",
       "      <td>1504000.0</td>\n",
       "    </tr>\n",
       "    <tr>\n",
       "      <th>199</th>\n",
       "      <td>2020-06-05</td>\n",
       "      <td>Arunachal Pradesh</td>\n",
       "      <td>10790.0</td>\n",
       "      <td>1504000.0</td>\n",
       "    </tr>\n",
       "  </tbody>\n",
       "</table>\n",
       "</div>"
      ],
      "text/plain": [
       "          Date              State    Tests  Population\n",
       "195 2020-06-01  Arunachal Pradesh   8768.0   1504000.0\n",
       "196 2020-06-02  Arunachal Pradesh   9079.0   1504000.0\n",
       "197 2020-06-03  Arunachal Pradesh   9551.0   1504000.0\n",
       "198 2020-06-04  Arunachal Pradesh  10025.0   1504000.0\n",
       "199 2020-06-05  Arunachal Pradesh  10790.0   1504000.0"
      ]
     },
     "execution_count": 9,
     "metadata": {},
     "output_type": "execute_result"
    }
   ],
   "source": [
    "df_testing.head()"
   ]
  },
  {
   "cell_type": "code",
   "execution_count": 10,
   "metadata": {},
   "outputs": [
    {
     "data": {
      "text/html": [
       "<div>\n",
       "<style scoped>\n",
       "    .dataframe tbody tr th:only-of-type {\n",
       "        vertical-align: middle;\n",
       "    }\n",
       "\n",
       "    .dataframe tbody tr th {\n",
       "        vertical-align: top;\n",
       "    }\n",
       "\n",
       "    .dataframe thead th {\n",
       "        text-align: right;\n",
       "    }\n",
       "</style>\n",
       "<table border=\"1\" class=\"dataframe\">\n",
       "  <thead>\n",
       "    <tr style=\"text-align: right;\">\n",
       "      <th></th>\n",
       "      <th>Date</th>\n",
       "      <th>Confirmed</th>\n",
       "      <th>Deceased</th>\n",
       "      <th>Recovered</th>\n",
       "      <th>State</th>\n",
       "    </tr>\n",
       "  </thead>\n",
       "  <tbody>\n",
       "    <tr>\n",
       "      <th>41</th>\n",
       "      <td>2020-07-01</td>\n",
       "      <td>4</td>\n",
       "      <td>0</td>\n",
       "      <td>4</td>\n",
       "      <td>Arunachal Pradesh</td>\n",
       "    </tr>\n",
       "    <tr>\n",
       "      <th>80</th>\n",
       "      <td>2020-06-01</td>\n",
       "      <td>18</td>\n",
       "      <td>0</td>\n",
       "      <td>0</td>\n",
       "      <td>Arunachal Pradesh</td>\n",
       "    </tr>\n",
       "    <tr>\n",
       "      <th>197</th>\n",
       "      <td>2020-07-02</td>\n",
       "      <td>37</td>\n",
       "      <td>0</td>\n",
       "      <td>5</td>\n",
       "      <td>Arunachal Pradesh</td>\n",
       "    </tr>\n",
       "    <tr>\n",
       "      <th>236</th>\n",
       "      <td>2020-06-02</td>\n",
       "      <td>2</td>\n",
       "      <td>0</td>\n",
       "      <td>0</td>\n",
       "      <td>Arunachal Pradesh</td>\n",
       "    </tr>\n",
       "    <tr>\n",
       "      <th>353</th>\n",
       "      <td>2020-07-03</td>\n",
       "      <td>20</td>\n",
       "      <td>0</td>\n",
       "      <td>4</td>\n",
       "      <td>Arunachal Pradesh</td>\n",
       "    </tr>\n",
       "  </tbody>\n",
       "</table>\n",
       "</div>"
      ],
      "text/plain": [
       "          Date  Confirmed  Deceased  Recovered              State\n",
       "41  2020-07-01          4         0          4  Arunachal Pradesh\n",
       "80  2020-06-01         18         0          0  Arunachal Pradesh\n",
       "197 2020-07-02         37         0          5  Arunachal Pradesh\n",
       "236 2020-06-02          2         0          0  Arunachal Pradesh\n",
       "353 2020-07-03         20         0          4  Arunachal Pradesh"
      ]
     },
     "execution_count": 10,
     "metadata": {},
     "output_type": "execute_result"
    }
   ],
   "source": [
    "\n",
    "df_filtered.head()"
   ]
  },
  {
   "cell_type": "code",
   "execution_count": 11,
   "metadata": {},
   "outputs": [],
   "source": [
    "df_filtered=pd.merge(df_filtered, df_testing, on=['State','Date'] , how='left')\n",
    "df_filtered=pd.merge(df_complete,df_filtered,  on=['State','Date'] , how='left')"
   ]
  },
  {
   "cell_type": "code",
   "execution_count": 12,
   "metadata": {},
   "outputs": [],
   "source": [
    "\n",
    "df_filtered.sort_values(by=['Date'],inplace=True)\n",
    "#df_filtered"
   ]
  },
  {
   "cell_type": "code",
   "execution_count": 13,
   "metadata": {},
   "outputs": [],
   "source": [
    "df_filtered['Active']=df_filtered['Tot_Cases']-df_filtered['Death']-df_filtered['Recovered_x']\n",
    "#df_filtered=df_filtered.assign(Active=active)\n",
    "#df_filtered"
   ]
  },
  {
   "cell_type": "code",
   "execution_count": 14,
   "metadata": {},
   "outputs": [
    {
     "data": {
      "image/png": "[encoded data removed]",
      "text/plain": [
       "<Figure size 864x504 with 1 Axes>"
      ]
     },
     "metadata": {
      "needs_background": "light"
     },
     "output_type": "display_data"
    }
   ],
   "source": [
    "plt.figure(figsize=(12, 7)) \n",
    "plt.plot(df_filtered.Date,df_filtered.Tot_Cases,color='k',label='Total Cases')\n",
    "plt.plot(df_filtered.Date,df_filtered.Recovered_x,color='orange',label='Recovered Cases')\n",
    "plt.plot(df_filtered.Date,df_filtered.Active,color='green',label='Active Cases')\n",
    "plt.plot(df_filtered.Date,df_filtered.Death,color='red',label='Death Cases')\n",
    "plt.xticks(rotation=60)\n",
    "plt.xlabel(\"Date\",labelpad=10,fontsize=20)\n",
    "plt.ylabel(\"Total Number\",labelpad=10,fontsize=20)\n",
    "plt.legend()\n",
    "\n",
    "plt.show()"
   ]
  },
  {
   "cell_type": "code",
   "execution_count": 15,
   "metadata": {},
   "outputs": [],
   "source": [
    "md=df_filtered.isnull()"
   ]
  },
  {
   "cell_type": "code",
   "execution_count": 16,
   "metadata": {},
   "outputs": [
    {
     "name": "stdout",
     "output_type": "stream",
     "text": [
      "Date\n",
      "False    35\n",
      "Name: Date, dtype: int64\n",
      "\n",
      "State\n",
      "False    35\n",
      "Name: State, dtype: int64\n",
      "\n",
      "Latitude\n",
      "False    35\n",
      "Name: Latitude, dtype: int64\n",
      "\n",
      "Longitude\n",
      "False    35\n",
      "Name: Longitude, dtype: int64\n",
      "\n",
      "Tot_Cases\n",
      "False    35\n",
      "Name: Tot_Cases, dtype: int64\n",
      "\n",
      "Death\n",
      "False    35\n",
      "Name: Death, dtype: int64\n",
      "\n",
      "Recovered_x\n",
      "False    35\n",
      "Name: Recovered_x, dtype: int64\n",
      "\n",
      "Confirmed\n",
      "False    34\n",
      "True      1\n",
      "Name: Confirmed, dtype: int64\n",
      "\n",
      "Deceased\n",
      "False    34\n",
      "True      1\n",
      "Name: Deceased, dtype: int64\n",
      "\n",
      "Recovered_y\n",
      "False    34\n",
      "True      1\n",
      "Name: Recovered_y, dtype: int64\n",
      "\n",
      "Tests\n",
      "False    33\n",
      "True      2\n",
      "Name: Tests, dtype: int64\n",
      "\n",
      "Population\n",
      "False    31\n",
      "True      4\n",
      "Name: Population, dtype: int64\n",
      "\n",
      "Active\n",
      "False    35\n",
      "Name: Active, dtype: int64\n",
      "\n"
     ]
    }
   ],
   "source": [
    "for column in md.columns.values.tolist():\n",
    "    print(column)\n",
    "    print (md[column].value_counts())\n",
    "    print(\"\") "
   ]
  },
  {
   "cell_type": "code",
   "execution_count": 17,
   "metadata": {},
   "outputs": [
    {
     "data": {
      "text/plain": [
       "<matplotlib.axes._subplots.AxesSubplot at 0x2ab501d6b08>"
      ]
     },
     "execution_count": 17,
     "metadata": {},
     "output_type": "execute_result"
    },
    {
     "data": {
      "image/png": "[encoded data removed]",
      "text/plain": [
       "<Figure size 432x288 with 1 Axes>"
      ]
     },
     "metadata": {
      "needs_background": "light"
     },
     "output_type": "display_data"
    }
   ],
   "source": [
    "hm_df=df_filtered.drop([\"Latitude\",\"Longitude\",\"Population\",\"Confirmed\",\"Deceased\",\"Recovered_y\"], axis=1)\n",
    "sns.heatmap(hm_df.isnull(),yticklabels=False,cbar=False,cmap='viridis')\n",
    "\n"
   ]
  },
  {
   "cell_type": "code",
   "execution_count": 18,
   "metadata": {},
   "outputs": [],
   "source": [
    "\n",
    "hm_df['Tests'] = hm_df['Tests'].fillna(hm_df['Tests'].mean())\n",
    "\n",
    "#hm_df['Population'] = hm_df['Population'].fillna(hm_df['Population'].mean())"
   ]
  },
  {
   "cell_type": "code",
   "execution_count": 19,
   "metadata": {},
   "outputs": [],
   "source": [
    "fig_size = plt.rcParams[\"figure.figsize\"]\n",
    "fig_size[0] = 15\n",
    "fig_size[1] = 10\n"
   ]
  },
  {
   "cell_type": "code",
   "execution_count": 20,
   "metadata": {},
   "outputs": [
    {
     "data": {
      "text/plain": [
       "<matplotlib.axes._subplots.AxesSubplot at 0x2ab50050808>"
      ]
     },
     "execution_count": 20,
     "metadata": {},
     "output_type": "execute_result"
    },
    {
     "data": {
      "image/png": "[encoded data removed]",
      "text/plain": [
       "<Figure size 1080x720 with 1 Axes>"
      ]
     },
     "metadata": {
      "needs_background": "light"
     },
     "output_type": "display_data"
    }
   ],
   "source": [
    "sns.heatmap(hm_df.isnull(),yticklabels=False,cbar=False,cmap='viridis')"
   ]
  },
  {
   "cell_type": "code",
   "execution_count": 21,
   "metadata": {},
   "outputs": [],
   "source": [
    "hm_df['Mor_Rate'] = (hm_df['Death']/hm_df['Tot_Cases']).round(2)\n",
    "hm_df['Rec_Rate'] = (hm_df['Recovered_x']/hm_df['Tot_Cases']).round(2)"
   ]
  },
  {
   "cell_type": "code",
   "execution_count": 22,
   "metadata": {},
   "outputs": [
    {
     "data": {
      "text/html": [
       "<div>\n",
       "<style scoped>\n",
       "    .dataframe tbody tr th:only-of-type {\n",
       "        vertical-align: middle;\n",
       "    }\n",
       "\n",
       "    .dataframe tbody tr th {\n",
       "        vertical-align: top;\n",
       "    }\n",
       "\n",
       "    .dataframe thead th {\n",
       "        text-align: right;\n",
       "    }\n",
       "</style>\n",
       "<table border=\"1\" class=\"dataframe\">\n",
       "  <thead>\n",
       "    <tr style=\"text-align: right;\">\n",
       "      <th></th>\n",
       "      <th>Date</th>\n",
       "      <th>State</th>\n",
       "      <th>Tot_Cases</th>\n",
       "      <th>Death</th>\n",
       "      <th>Recovered_x</th>\n",
       "      <th>Tests</th>\n",
       "      <th>Active</th>\n",
       "      <th>Mor_Rate</th>\n",
       "      <th>Rec_Rate</th>\n",
       "    </tr>\n",
       "  </thead>\n",
       "  <tbody>\n",
       "    <tr>\n",
       "      <th>0</th>\n",
       "      <td>2020-06-01</td>\n",
       "      <td>Arunachal Pradesh</td>\n",
       "      <td>4</td>\n",
       "      <td>0</td>\n",
       "      <td>1</td>\n",
       "      <td>8768.0</td>\n",
       "      <td>3</td>\n",
       "      <td>0.0</td>\n",
       "      <td>0.25</td>\n",
       "    </tr>\n",
       "    <tr>\n",
       "      <th>1</th>\n",
       "      <td>2020-06-02</td>\n",
       "      <td>Arunachal Pradesh</td>\n",
       "      <td>22</td>\n",
       "      <td>0</td>\n",
       "      <td>1</td>\n",
       "      <td>9079.0</td>\n",
       "      <td>21</td>\n",
       "      <td>0.0</td>\n",
       "      <td>0.05</td>\n",
       "    </tr>\n",
       "    <tr>\n",
       "      <th>2</th>\n",
       "      <td>2020-06-03</td>\n",
       "      <td>Arunachal Pradesh</td>\n",
       "      <td>22</td>\n",
       "      <td>0</td>\n",
       "      <td>1</td>\n",
       "      <td>9551.0</td>\n",
       "      <td>21</td>\n",
       "      <td>0.0</td>\n",
       "      <td>0.05</td>\n",
       "    </tr>\n",
       "    <tr>\n",
       "      <th>3</th>\n",
       "      <td>2020-06-04</td>\n",
       "      <td>Arunachal Pradesh</td>\n",
       "      <td>38</td>\n",
       "      <td>0</td>\n",
       "      <td>1</td>\n",
       "      <td>10025.0</td>\n",
       "      <td>37</td>\n",
       "      <td>0.0</td>\n",
       "      <td>0.03</td>\n",
       "    </tr>\n",
       "    <tr>\n",
       "      <th>4</th>\n",
       "      <td>2020-06-05</td>\n",
       "      <td>Arunachal Pradesh</td>\n",
       "      <td>42</td>\n",
       "      <td>0</td>\n",
       "      <td>1</td>\n",
       "      <td>10790.0</td>\n",
       "      <td>41</td>\n",
       "      <td>0.0</td>\n",
       "      <td>0.02</td>\n",
       "    </tr>\n",
       "  </tbody>\n",
       "</table>\n",
       "</div>"
      ],
      "text/plain": [
       "        Date              State  Tot_Cases  Death  Recovered_x    Tests  \\\n",
       "0 2020-06-01  Arunachal Pradesh          4      0            1   8768.0   \n",
       "1 2020-06-02  Arunachal Pradesh         22      0            1   9079.0   \n",
       "2 2020-06-03  Arunachal Pradesh         22      0            1   9551.0   \n",
       "3 2020-06-04  Arunachal Pradesh         38      0            1  10025.0   \n",
       "4 2020-06-05  Arunachal Pradesh         42      0            1  10790.0   \n",
       "\n",
       "   Active  Mor_Rate  Rec_Rate  \n",
       "0       3       0.0      0.25  \n",
       "1      21       0.0      0.05  \n",
       "2      21       0.0      0.05  \n",
       "3      37       0.0      0.03  \n",
       "4      41       0.0      0.02  "
      ]
     },
     "execution_count": 22,
     "metadata": {},
     "output_type": "execute_result"
    }
   ],
   "source": [
    "hm_df.head()"
   ]
  },
  {
   "cell_type": "code",
   "execution_count": 23,
   "metadata": {},
   "outputs": [
    {
     "data": {
      "text/plain": [
       "<matplotlib.axes._subplots.AxesSubplot at 0x2ab4fe77748>"
      ]
     },
     "execution_count": 23,
     "metadata": {},
     "output_type": "execute_result"
    },
    {
     "data": {
      "image/png": "[encoded data removed]",
      "text/plain": [
       "<Figure size 1080x720 with 9 Axes>"
      ]
     },
     "metadata": {
      "needs_background": "light"
     },
     "output_type": "display_data"
    },
    {
     "data": {
      "image/png": "[encoded data removed]",
      "text/plain": [
       "<Figure size 864x504 with 2 Axes>"
      ]
     },
     "metadata": {
      "needs_background": "light"
     },
     "output_type": "display_data"
    }
   ],
   "source": [
    "hm_df.hist()\n",
    "Var_Corr = hm_df.corr()\n",
    "#Var_Corr =df_filtered.corr(method ='pearson') \n",
    "# plot the heatmap and annotation on it\n",
    "\n",
    "plt.figure(figsize=(12, 7))    \n",
    "sns.heatmap(Var_Corr, xticklabels=Var_Corr.columns, yticklabels=Var_Corr.columns, annot=True, vmin=-1, vmax=1, center= 0,cmap='Blues')"
   ]
  },
  {
   "cell_type": "code",
   "execution_count": 26,
   "metadata": {},
   "outputs": [],
   "source": [
    "\n",
    "df_lr = hm_df.drop(['State','Death','Tests','Active','Date'], axis='columns')\n",
    "\n",
    "\n"
   ]
  },
  {
   "cell_type": "code",
   "execution_count": 27,
   "metadata": {},
   "outputs": [
    {
     "name": "stdout",
     "output_type": "stream",
     "text": [
      "    Tot_Cases  Recovered_x  Mor_Rate  Rec_Rate  prediction_cnfm  \\\n",
      "30        195           66      0.01      0.34              NaN   \n",
      "31        259           76      0.00      0.29              NaN   \n",
      "32        270           92      0.01      0.34              NaN   \n",
      "33        276          105      0.01      0.38              NaN   \n",
      "34        287          109      0.01      0.38              NaN   \n",
      "\n",
      "    prediction_rec  \n",
      "30             NaN  \n",
      "31             NaN  \n",
      "32             NaN  \n",
      "33             NaN  \n",
      "34             NaN  \n"
     ]
    }
   ],
   "source": [
    "forecast_out=15\n",
    "#df1['prediction']=df1[['Recovered']].shift(-1)\n",
    "df_lr['prediction_cnfm']=df_lr[['Tot_Cases']].shift(-forecast_out)\n",
    "df_lr['prediction_rec']=df_lr[['Recovered_x']].shift(-forecast_out)\n",
    "print(df_lr.tail())"
   ]
  },
  {
   "cell_type": "code",
   "execution_count": 32,
   "metadata": {},
   "outputs": [
    {
     "name": "stdout",
     "output_type": "stream",
     "text": [
      "[[  4]\n",
      " [ 22]\n",
      " [ 22]\n",
      " [ 38]\n",
      " [ 42]\n",
      " [ 45]\n",
      " [ 47]\n",
      " [ 51]\n",
      " [ 51]\n",
      " [ 57]\n",
      " [ 57]\n",
      " [ 61]\n",
      " [ 67]\n",
      " [ 87]\n",
      " [ 91]\n",
      " [ 91]\n",
      " [ 95]\n",
      " [ 99]\n",
      " [103]\n",
      " [103]]\n"
     ]
    }
   ],
   "source": [
    "X=np.array(df_lr.drop(['prediction_cnfm','prediction_rec','Recovered_x','Mor_Rate','Rec_Rate'],1))\n",
    "X=X[:-forecast_out]\n",
    "print(X)"
   ]
  },
  {
   "cell_type": "code",
   "execution_count": 33,
   "metadata": {},
   "outputs": [
    {
     "name": "stdout",
     "output_type": "stream",
     "text": [
      "[ 1  1  1  1  1  1  1  1  1  1  2  4  4  4  7  7  7  7 10 11]\n"
     ]
    }
   ],
   "source": [
    "y=np.array(df_lr['Recovered_x'])\n",
    "y=y[:-forecast_out]\n",
    "print(y)"
   ]
  },
  {
   "cell_type": "code",
   "execution_count": 34,
   "metadata": {},
   "outputs": [],
   "source": [
    "#from sklearn.model_selection import train_test_split\n",
    "x_train,x_test,y_train,y_test=train_test_split(X,y,test_size=0.2)"
   ]
  },
  {
   "cell_type": "code",
   "execution_count": 35,
   "metadata": {},
   "outputs": [
    {
     "data": {
      "text/plain": [
       "LinearRegression()"
      ]
     },
     "execution_count": 35,
     "metadata": {},
     "output_type": "execute_result"
    }
   ],
   "source": [
    "lr_xfm=LinearRegression()\n",
    "lr_xfm.fit(x_train,y_train)"
   ]
  },
  {
   "cell_type": "code",
   "execution_count": 48,
   "metadata": {},
   "outputs": [
    {
     "name": "stdout",
     "output_type": "stream",
     "text": [
      "Linear Regression confidence: 0.31097711207418277\n"
     ]
    }
   ],
   "source": [
    "lr_scr=lr_xfm.score(x_test,y_test)\n",
    "print(\"Linear Regression confidence:\",lr_scr)"
   ]
  },
  {
   "cell_type": "code",
   "execution_count": 49,
   "metadata": {},
   "outputs": [
    {
     "name": "stdout",
     "output_type": "stream",
     "text": [
      "[[1.35e+02 1.40e+01 0.00e+00 1.00e-01]\n",
      " [1.35e+02 1.50e+01 0.00e+00 1.10e-01]\n",
      " [1.39e+02 2.10e+01 0.00e+00 1.50e-01]\n",
      " [1.48e+02 2.20e+01 0.00e+00 1.50e-01]\n",
      " [1.58e+02 3.80e+01 0.00e+00 2.40e-01]\n",
      " [1.72e+02 4.20e+01 1.00e-02 2.40e-01]\n",
      " [1.77e+02 5.40e+01 1.00e-02 3.10e-01]\n",
      " [1.82e+02 6.00e+01 1.00e-02 3.30e-01]\n",
      " [1.87e+02 6.10e+01 1.00e-02 3.30e-01]\n",
      " [1.95e+02 6.60e+01 1.00e-02 3.40e-01]\n",
      " [1.95e+02 6.60e+01 1.00e-02 3.40e-01]\n",
      " [2.59e+02 7.60e+01 0.00e+00 2.90e-01]\n",
      " [2.70e+02 9.20e+01 1.00e-02 3.40e-01]\n",
      " [2.76e+02 1.05e+02 1.00e-02 3.80e-01]\n",
      " [2.87e+02 1.09e+02 1.00e-02 3.80e-01]]\n"
     ]
    }
   ],
   "source": [
    "x_forecast=np.array(df_lr.drop(['prediction_cnfm','prediction_rec'],1))[-forecast_out:]\n",
    "print(x_forecast)"
   ]
  },
  {
   "cell_type": "code",
   "execution_count": 50,
   "metadata": {},
   "outputs": [
    {
     "name": "stdout",
     "output_type": "stream",
     "text": [
      "-2.184311914920717\n",
      "[0.09722664]\n"
     ]
    }
   ],
   "source": [
    "\n",
    "\n",
    "#To retrieve the intercept:\n",
    "print(lr_xfm.intercept_)\n",
    "#For retrieving the slope:\n",
    "print(lr_xfm.coef_)\n",
    "\n"
   ]
  },
  {
   "cell_type": "code",
   "execution_count": 52,
   "metadata": {},
   "outputs": [],
   "source": [
    "y_pred = lr_xfm.predict(x_test)"
   ]
  },
  {
   "cell_type": "code",
   "execution_count": 55,
   "metadata": {},
   "outputs": [
    {
     "data": {
      "image/png": "[encoded data removed]",
      "text/plain": [
       "<Figure size 1080x720 with 1 Axes>"
      ]
     },
     "metadata": {
      "needs_background": "light"
     },
     "output_type": "display_data"
    }
   ],
   "source": [
    "plt.scatter(x_test, y_test,  color='gray')\n",
    "plt.plot(x_test, y_pred, color='red', linewidth=2)\n",
    "plt.show()"
   ]
  },
  {
   "cell_type": "code",
   "execution_count": null,
   "metadata": {},
   "outputs": [],
   "source": [
    "print('Mean Absolute Error:', metrics.mean_absolute_error(y_test, y_pred))  \n",
    "print('Mean Squared Error:', metrics.mean_squared_error(y_test, y_pred))  \n",
    "print('Root Mean Squared Error:', np.sqrt(metrics.mean_squared_error(y_test, y_pred)))"
   ]
  },
  {
   "cell_type": "code",
   "execution_count": 44,
   "metadata": {},
   "outputs": [
    {
     "data": {
      "image/png": "[encoded data removed]",
      "text/plain": [
       "<Figure size 1080x720 with 1 Axes>"
      ]
     },
     "metadata": {
      "needs_background": "light"
     },
     "output_type": "display_data"
    }
   ],
   "source": [
    "hm_df.plot(x='Tot_Cases', y=['Recovered_x'], style='o')  \n",
    "plt.title('Total Cases vs Recovered Cases')  \n",
    "plt.xlabel('Confirmed Cases')  \n",
    "plt.ylabel('Total and Recovered Cases')  \n",
    "plt.show()"
   ]
  },
  {
   "cell_type": "code",
   "execution_count": null,
   "metadata": {},
   "outputs": [],
   "source": []
  }
 ],
 "metadata": {
  "kernelspec": {
   "display_name": "Python 3",
   "language": "python",
   "name": "python3"
  },
  "language_info": {
   "codemirror_mode": {
    "name": "ipython",
    "version": 3
   },
   "file_extension": ".py",
   "mimetype": "text/x-python",
   "name": "python",
   "nbconvert_exporter": "python",
   "pygments_lexer": "ipython3",
   "version": "3.7.6"
  }
 },
 "nbformat": 4,
 "nbformat_minor": 4
}
